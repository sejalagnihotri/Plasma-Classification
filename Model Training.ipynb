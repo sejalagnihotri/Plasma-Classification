{
 "cells": [
  {
   "cell_type": "code",
   "execution_count": 1,
   "id": "fifteen-hotel",
   "metadata": {},
   "outputs": [],
   "source": [
    "import pandas as pd\n",
    "import matplotlib.pyplot as plt\n",
    "import numpy as np\n",
    "import cv2\n",
    "import os\n",
    "import random\n",
    "from sklearn.metrics import mean_squared_error"
   ]
  },
  {
   "cell_type": "code",
   "execution_count": 2,
   "id": "connected-offer",
   "metadata": {},
   "outputs": [],
   "source": [
    "dataset=pd.read_csv(\"Labeled_Pics.csv\")"
   ]
  },
  {
   "cell_type": "code",
   "execution_count": 3,
   "id": "treated-sherman",
   "metadata": {},
   "outputs": [
    {
     "data": {
      "text/html": [
       "<div>\n",
       "<style scoped>\n",
       "    .dataframe tbody tr th:only-of-type {\n",
       "        vertical-align: middle;\n",
       "    }\n",
       "\n",
       "    .dataframe tbody tr th {\n",
       "        vertical-align: top;\n",
       "    }\n",
       "\n",
       "    .dataframe thead th {\n",
       "        text-align: right;\n",
       "    }\n",
       "</style>\n",
       "<table border=\"1\" class=\"dataframe\">\n",
       "  <thead>\n",
       "    <tr style=\"text-align: right;\">\n",
       "      <th></th>\n",
       "      <th>Image</th>\n",
       "      <th>Touching surface(1) or not(0)</th>\n",
       "    </tr>\n",
       "  </thead>\n",
       "  <tbody>\n",
       "    <tr>\n",
       "      <th>0</th>\n",
       "      <td>9311-image-0001-0ms.png</td>\n",
       "      <td>0</td>\n",
       "    </tr>\n",
       "    <tr>\n",
       "      <th>1</th>\n",
       "      <td>9311-image-0002-200ms.png</td>\n",
       "      <td>0</td>\n",
       "    </tr>\n",
       "    <tr>\n",
       "      <th>2</th>\n",
       "      <td>9311-image-0003-400ms.png</td>\n",
       "      <td>0</td>\n",
       "    </tr>\n",
       "    <tr>\n",
       "      <th>3</th>\n",
       "      <td>9311-image-0004-600ms.png</td>\n",
       "      <td>0</td>\n",
       "    </tr>\n",
       "    <tr>\n",
       "      <th>4</th>\n",
       "      <td>9311-image-0005-800ms.png</td>\n",
       "      <td>0</td>\n",
       "    </tr>\n",
       "    <tr>\n",
       "      <th>...</th>\n",
       "      <td>...</td>\n",
       "      <td>...</td>\n",
       "    </tr>\n",
       "    <tr>\n",
       "      <th>13503</th>\n",
       "      <td>9388-image-0297-59200ms.png</td>\n",
       "      <td>0</td>\n",
       "    </tr>\n",
       "    <tr>\n",
       "      <th>13504</th>\n",
       "      <td>9388-image-0298-59400ms.png</td>\n",
       "      <td>0</td>\n",
       "    </tr>\n",
       "    <tr>\n",
       "      <th>13505</th>\n",
       "      <td>9388-image-0299-59600ms.png</td>\n",
       "      <td>0</td>\n",
       "    </tr>\n",
       "    <tr>\n",
       "      <th>13506</th>\n",
       "      <td>9388-image-0300-59800ms.png</td>\n",
       "      <td>0</td>\n",
       "    </tr>\n",
       "    <tr>\n",
       "      <th>13507</th>\n",
       "      <td>9388-image-0301-60000ms.png</td>\n",
       "      <td>0</td>\n",
       "    </tr>\n",
       "  </tbody>\n",
       "</table>\n",
       "<p>13508 rows × 2 columns</p>\n",
       "</div>"
      ],
      "text/plain": [
       "                             Image  Touching surface(1) or not(0)\n",
       "0          9311-image-0001-0ms.png                              0\n",
       "1        9311-image-0002-200ms.png                              0\n",
       "2        9311-image-0003-400ms.png                              0\n",
       "3        9311-image-0004-600ms.png                              0\n",
       "4        9311-image-0005-800ms.png                              0\n",
       "...                            ...                            ...\n",
       "13503  9388-image-0297-59200ms.png                              0\n",
       "13504  9388-image-0298-59400ms.png                              0\n",
       "13505  9388-image-0299-59600ms.png                              0\n",
       "13506  9388-image-0300-59800ms.png                              0\n",
       "13507  9388-image-0301-60000ms.png                              0\n",
       "\n",
       "[13508 rows x 2 columns]"
      ]
     },
     "execution_count": 3,
     "metadata": {},
     "output_type": "execute_result"
    }
   ],
   "source": [
    "dataset"
   ]
  },
  {
   "cell_type": "code",
   "execution_count": 4,
   "id": "found-lying",
   "metadata": {},
   "outputs": [],
   "source": [
    "plot_data_0=[]\n",
    "plot_data_1=[]\n",
    "FrobNorm=[]\n",
    "DESTINATION=\"ALL_PICS\"\n",
    "img = cv2.imread(DESTINATION+\"/\"+os.listdir(DESTINATION)[0],cv2.IMREAD_GRAYSCALE)\n",
    "vecR=np.array([1 for i in range(img.shape[1])])\n",
    "vecC=np.array([1 for i in range(img.shape[0])])\n",
    "\n",
    "for i in range(len(dataset.iloc[:,0])):\n",
    "    img = cv2.imread(DESTINATION+\"/\"+dataset.iloc[:,0][i],cv2.IMREAD_GRAYSCALE)\n",
    "    ret,img = cv2.threshold(img,50,255,cv2.THRESH_TOZERO)\n",
    "\n",
    "#     norm_row=img.dot(vecR)\n",
    "#     norm_col=np.sqrt(np.trace(img.dot(img.T)))\n",
    "    norm_col=np.linalg.norm(img,ord=\"fro\")\n",
    "    FrobNorm.append(norm_col)\n",
    "    if dataset.iloc[:,1][i]==1:\n",
    "        if norm_col<1000:\n",
    "            plot_data_1.append(norm_col)\n",
    "    else:\n",
    "#         if 0<norm_col<200:\n",
    "#             print(dataset.iloc[:,0][i])\n",
    "        plot_data_0.append(norm_col)"
   ]
  },
  {
   "cell_type": "code",
   "execution_count": 5,
   "id": "instrumental-georgia",
   "metadata": {},
   "outputs": [],
   "source": [
    "dataset[\"frobNorm\"]=FrobNorm"
   ]
  },
  {
   "cell_type": "code",
   "execution_count": 6,
   "id": "statistical-spoke",
   "metadata": {},
   "outputs": [],
   "source": [
    "index_0=[]\n",
    "index_1=[]\n",
    "counter=0\n",
    "for i in range(len(plot_data_0)):\n",
    "    index_0.append(counter)\n",
    "    counter+=1\n",
    "counter=0\n",
    "for i in range(len(plot_data_1)):\n",
    "    index_1.append(counter)\n",
    "    counter+=1"
   ]
  },
  {
   "cell_type": "code",
   "execution_count": 7,
   "id": "level-power",
   "metadata": {},
   "outputs": [
    {
     "data": {
      "text/plain": [
       "364"
      ]
     },
     "execution_count": 7,
     "metadata": {},
     "output_type": "execute_result"
    }
   ],
   "source": [
    "len(index_1)"
   ]
  },
  {
   "cell_type": "code",
   "execution_count": 8,
   "id": "incomplete-wesley",
   "metadata": {},
   "outputs": [
    {
     "data": {
      "image/png": "[encoded data removed]",
      "text/plain": [
       "<Figure size 720x504 with 1 Axes>"
      ]
     },
     "metadata": {
      "needs_background": "light"
     },
     "output_type": "display_data"
    }
   ],
   "source": [
    "plt.figure(figsize=(10,7))\n",
    "plt.scatter(index_0[:1300],plot_data_0[:1300])\n",
    "plt.scatter(index_1,plot_data_1)\n",
    "plt.xlabel(\"No. of image\")\n",
    "plt.ylabel(\"Frobineous Norm\")\n",
    "plt.legend(('Not Touching Surface','Touching Surface'))\n",
    "plt.plot([0,1300],[10,50],\"r\")\n",
    "plt.show()\n",
    "# plt.savefig(\"resirch.pdf\")"
   ]
  },
  {
   "cell_type": "code",
   "execution_count": 9,
   "id": "electric-television",
   "metadata": {},
   "outputs": [],
   "source": [
    "def GradientDesc(Data):\n",
    "    minima=0\n",
    "    for i in Data:\n",
    "        if i==0:\n",
    "            minima+=1\n",
    "    return minima"
   ]
  },
  {
   "cell_type": "code",
   "execution_count": 10,
   "id": "urban-movement",
   "metadata": {},
   "outputs": [],
   "source": [
    "accList=[]\n",
    "ThreshList=[]\n",
    "for j in range(1000):\n",
    "    THRESH=j\n",
    "    y_pred=[]\n",
    "    for i in dataset[\"frobNorm\"]:\n",
    "        if i>THRESH:\n",
    "            y_pred.append(1)\n",
    "        else:\n",
    "            y_pred.append(0)\n",
    "    y_act=list(dataset[\"Touching surface(1) or not(0)\"])\n",
    "    accList.append(mean_squared_error(y_act,y_pred))\n",
    "    ThreshList.append(j)"
   ]
  },
  {
   "cell_type": "code",
   "execution_count": 11,
   "id": "steady-window",
   "metadata": {},
   "outputs": [
    {
     "data": {
      "image/png": "[encoded data removed]",
      "text/plain": [
       "<Figure size 1080x360 with 1 Axes>"
      ]
     },
     "metadata": {
      "needs_background": "light"
     },
     "output_type": "display_data"
    }
   ],
   "source": [
    "plt.figure(figsize=(15,5))\n",
    "plt.plot(ThreshList,accList)\n",
    "plt.xlabel(\"Threshold\")\n",
    "plt.ylabel(\"Loss\")\n",
    "plt.title(\"Loss vs Threshold\")\n",
    "plt.show()"
   ]
  },
  {
   "cell_type": "code",
   "execution_count": 12,
   "id": "deadly-chase",
   "metadata": {},
   "outputs": [
    {
     "name": "stdout",
     "output_type": "stream",
     "text": [
      "The optimum threshold value is : 51\n"
     ]
    }
   ],
   "source": [
    "print(f\"The optimum threshold value is : {GradientDesc(accList)}\")"
   ]
  },
  {
   "cell_type": "code",
   "execution_count": 21,
   "id": "baking-guide",
   "metadata": {},
   "outputs": [
    {
     "name": "stdout",
     "output_type": "stream",
     "text": [
      "Confusion matrix\n",
      "\n",
      "[[12217     0]\n",
      " [    0  1291]]\n",
      "\n",
      "\n",
      "\t\t\tClassification Report\n",
      "\n",
      "              precision    recall  f1-score   support\n",
      "\n",
      "           0       1.00      1.00      1.00     12217\n",
      "           1       1.00      1.00      1.00      1291\n",
      "\n",
      "    accuracy                           1.00     13508\n",
      "   macro avg       1.00      1.00      1.00     13508\n",
      "weighted avg       1.00      1.00      1.00     13508\n",
      "\n"
     ]
    }
   ],
   "source": [
    "from sklearn.metrics import classification_report, confusion_matrix\n",
    "\n",
    "THRESH=50\n",
    "y_pred=[]\n",
    "for i in dataset[\"frobNorm\"]:\n",
    "    if i>THRESH:\n",
    "        y_pred.append(1)\n",
    "    else:\n",
    "        y_pred.append(0)\n",
    "y_act=list(dataset[\"Touching surface(1) or not(0)\"])\n",
    "\n",
    "print(\"Confusion matrix\\n\")\n",
    "print(confusion_matrix(y_act,y_pred))\n",
    "\n",
    "print(\"\\n\\n\\t\\t\\tClassification Report\\n\")\n",
    "print(classification_report(y_act,y_pred))"
   ]
  }
 ],
 "metadata": {
  "kernelspec": {
   "display_name": "Python 3",
   "language": "python",
   "name": "python3"
  },
  "language_info": {
   "codemirror_mode": {
    "name": "ipython",
    "version": 3
   },
   "file_extension": ".py",
   "mimetype": "text/x-python",
   "name": "python",
   "nbconvert_exporter": "python",
   "pygments_lexer": "ipython3",
   "version": "3.8.8"
  }
 },
 "nbformat": 4,
 "nbformat_minor": 5
}

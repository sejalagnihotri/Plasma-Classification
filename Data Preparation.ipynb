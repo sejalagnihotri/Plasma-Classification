{
 "cells": [
  {
   "cell_type": "markdown",
   "id": "attended-ideal",
   "metadata": {},
   "source": [
    "### Coded by cMDev (Preet Patel)(Github:-cMDev007)"
   ]
  },
  {
   "cell_type": "code",
   "execution_count": 2,
   "id": "corporate-floor",
   "metadata": {},
   "outputs": [],
   "source": [
    "import os"
   ]
  },
  {
   "cell_type": "code",
   "execution_count": 4,
   "id": "banner-chemistry",
   "metadata": {},
   "outputs": [
    {
     "data": {
      "text/plain": [
       "0"
      ]
     },
     "execution_count": 4,
     "metadata": {},
     "output_type": "execute_result"
    }
   ],
   "source": [
    "os.system(\"rm -rf *.png\")"
   ]
  },
  {
   "cell_type": "code",
   "execution_count": 5,
   "id": "pediatric-maria",
   "metadata": {},
   "outputs": [
    {
     "data": {
      "text/plain": [
       "['9381.avi',\n",
       " '9379.avi',\n",
       " '9374.avi',\n",
       " '9372.avi',\n",
       " '9371.avi',\n",
       " '9386.avi',\n",
       " '9387.avi',\n",
       " '9370.avi',\n",
       " '9373.avi',\n",
       " '9384.avi',\n",
       " '9388.avi',\n",
       " '9380.avi',\n",
       " '9376.avi',\n",
       " '9383.avi',\n",
       " '9377.avi',\n",
       " '9385.avi',\n",
       " '9311.avi']"
      ]
     },
     "execution_count": 5,
     "metadata": {},
     "output_type": "execute_result"
    }
   ],
   "source": [
    "os.listdir()[2:]"
   ]
  },
  {
   "cell_type": "code",
   "execution_count": 7,
   "id": "senior-james",
   "metadata": {},
   "outputs": [],
   "source": [
    "for i in os.listdir()[2:]:\n",
    "    buff=i.split(\".\")[0]\n",
    "    os.system(\"mkdir \"+buff)\n",
    "    os.system(\"ffmpeg -i \"+i+\" -r 5 \"+buff+\"/\"+buff+\"-image-%4d.png\")"
   ]
  },
  {
   "cell_type": "code",
   "execution_count": null,
   "id": "recognized-might",
   "metadata": {},
   "outputs": [],
   "source": [
    "!mv *.avi ../"
   ]
  },
  {
   "cell_type": "code",
   "execution_count": 13,
   "id": "ceramic-scout",
   "metadata": {},
   "outputs": [
    {
     "data": {
      "text/plain": [
       "['9311',\n",
       " '9385',\n",
       " '9377',\n",
       " '9383',\n",
       " '9376',\n",
       " '9380',\n",
       " '9388',\n",
       " '9384',\n",
       " '9373',\n",
       " '9370',\n",
       " '9387',\n",
       " '9386',\n",
       " '9371',\n",
       " '9372',\n",
       " '9374',\n",
       " '9379',\n",
       " '9381']"
      ]
     },
     "execution_count": 13,
     "metadata": {},
     "output_type": "execute_result"
    }
   ],
   "source": [
    "os.listdir()[:-2]"
   ]
  },
  {
   "cell_type": "code",
   "execution_count": 4,
   "id": "foreign-split",
   "metadata": {},
   "outputs": [],
   "source": [
    "FPS=5\n",
    "for i in os.listdir()[:-2]:\n",
    "    files=os.listdir(i)\n",
    "    files.sort()\n",
    "    ms=0\n",
    "    for j in files:\n",
    "        os.system(\"mv \"+i+\"/\"+j+\" \"+i+\"/\"+j[:-4]+\"-\"+str(int(ms))+\"ms\"+j[-4:])\n",
    "        ms+=1000/FPS"
   ]
  }
 ],
 "metadata": {
  "kernelspec": {
   "display_name": "Python 3",
   "language": "python",
   "name": "python3"
  },
  "language_info": {
   "codemirror_mode": {
    "name": "ipython",
    "version": 3
   },
   "file_extension": ".py",
   "mimetype": "text/x-python",
   "name": "python",
   "nbconvert_exporter": "python",
   "pygments_lexer": "ipython3",
   "version": "3.8.11"
  }
 },
 "nbformat": 4,
 "nbformat_minor": 5
}

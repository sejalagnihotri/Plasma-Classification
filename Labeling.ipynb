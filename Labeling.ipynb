{
 "cells": [
  {
   "cell_type": "code",
   "execution_count": 2,
   "id": "tropical-courage",
   "metadata": {},
   "outputs": [],
   "source": [
    "import os\n",
    "import cv2\n",
    "import numpy as np"
   ]
  },
  {
   "cell_type": "code",
   "execution_count": 3,
   "id": "hearing-return",
   "metadata": {},
   "outputs": [
    {
     "name": "stdout",
     "output_type": "stream",
     "text": [
      "9311  9371  9373  9376\t9379  9381  9384  9386\t9388\r\n",
      "9370  9372  9374  9377\t9380  9383  9385  9387\tCode_to_extract.ipynb\r\n"
     ]
    }
   ],
   "source": [
    "!ls NM_PRUJECT_WITH_MS"
   ]
  },
  {
   "cell_type": "code",
   "execution_count": 4,
   "id": "collective-tyler",
   "metadata": {},
   "outputs": [
    {
     "data": {
      "text/plain": [
       "['9311',\n",
       " '9370',\n",
       " '9371',\n",
       " '9372',\n",
       " '9373',\n",
       " '9374',\n",
       " '9376',\n",
       " '9377',\n",
       " '9379',\n",
       " '9380',\n",
       " '9381',\n",
       " '9383',\n",
       " '9384',\n",
       " '9385',\n",
       " '9386',\n",
       " '9387',\n",
       " '9388']"
      ]
     },
     "execution_count": 4,
     "metadata": {},
     "output_type": "execute_result"
    }
   ],
   "source": [
    "os.listdir(\"NM_PRUJECT_WITH_MS\")[:-1]"
   ]
  },
  {
   "cell_type": "code",
   "execution_count": 8,
   "id": "regular-staff",
   "metadata": {},
   "outputs": [
    {
     "name": "stdout",
     "output_type": "stream",
     "text": [
      "mkdir: cannot create directory ‘ALL_PICS’: File exists\r\n"
     ]
    }
   ],
   "source": [
    "!mkdir ALL_PICS\n",
    "DIR=\"NM_PRUJECT_WITH_MS\"\n",
    "DESTINATION=\"ALL_PICS\"\n",
    "for i in os.listdir(DIR)[:-1]:\n",
    "    os.system(\"cp -rv \"+DIR+\"/\"+i+\"/* \"+DESTINATION)\n",
    "#     print(\"cp -rv \"+DIR+\"/\"+i+\"/* \"+DESTINATION)"
   ]
  },
  {
   "cell_type": "code",
   "execution_count": 10,
   "id": "short-footwear",
   "metadata": {},
   "outputs": [],
   "source": []
  },
  {
   "cell_type": "code",
   "execution_count": 5,
   "id": "lined-walter",
   "metadata": {},
   "outputs": [],
   "source": [
    "DESTINATION=\"ALL_PICS\"\n",
    "img = cv2.imread(DESTINATION+\"/\"+os.listdir(DESTINATION)[0],cv2.IMREAD_GRAYSCALE)\n",
    "vecR=np.array([1 for i in range(img.shape[1])])\n",
    "vecC=np.array([1 for i in range(img.shape[0])])\n",
    "f=open(\"Labeled_Pics.csv\",'w')\n",
    "f.write(\"Image,Touching surface(1) or not(0)\\n\")\n",
    "for i in os.listdir(DESTINATION):\n",
    "    img = cv2.imread(DESTINATION+\"/\"+i,cv2.IMREAD_GRAYSCALE)\n",
    "    ret,img = cv2.threshold(img,50,255,cv2.THRESH_TOZERO)\n",
    "\n",
    "#     norm_row=img.dot(vecR)\n",
    "    norm_col=img.T.dot(vecC)\n",
    "\n",
    "    if sum(norm_col)>0:\n",
    "        f.write(i+\",\"+\"1\\n\")\n",
    "#         print(\"Plasma is touching surface!\")\n",
    "    else:\n",
    "        f.write(i+\",\"+\"0\\n\")\n",
    "#         print(\"Plasma is not touching surface!\")\n",
    "f.close()"
   ]
  },
  {
   "cell_type": "code",
   "execution_count": null,
   "id": "thousand-heart",
   "metadata": {},
   "outputs": [],
   "source": []
  }
 ],
 "metadata": {
  "kernelspec": {
   "display_name": "Python 3",
   "language": "python",
   "name": "python3"
  },
  "language_info": {
   "codemirror_mode": {
    "name": "ipython",
    "version": 3
   },
   "file_extension": ".py",
   "mimetype": "text/x-python",
   "name": "python",
   "nbconvert_exporter": "python",
   "pygments_lexer": "ipython3",
   "version": "3.8.11"
  }
 },
 "nbformat": 4,
 "nbformat_minor": 5
}
